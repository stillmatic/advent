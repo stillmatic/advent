{
 "metadata": {
  "language_info": {
   "codemirror_mode": {
    "name": "ipython",
    "version": 3
   },
   "file_extension": ".py",
   "mimetype": "text/x-python",
   "name": "python",
   "nbconvert_exporter": "python",
   "pygments_lexer": "ipython3",
   "version": "3.8.6-final"
  },
  "orig_nbformat": 2,
  "kernelspec": {
   "name": "python3",
   "display_name": "Python 3.8.6 64-bit ('advent': venv)",
   "metadata": {
    "interpreter": {
     "hash": "0cc350383af1a3ab72b32736f19c7624e2a417239ea40fc71ef184bed3bdfde8"
    }
   }
  }
 },
 "nbformat": 4,
 "nbformat_minor": 2,
 "cells": [
  {
   "cell_type": "code",
   "execution_count": 2,
   "metadata": {},
   "outputs": [],
   "source": [
    "from aocd.models import Puzzle"
   ]
  },
  {
   "source": [
    "### day 1"
   ],
   "cell_type": "markdown",
   "metadata": {}
  },
  {
   "cell_type": "code",
   "execution_count": 9,
   "metadata": {},
   "outputs": [],
   "source": [
    "puzzle = Puzzle(year=2020, day=1)"
   ]
  },
  {
   "cell_type": "code",
   "execution_count": 13,
   "metadata": {},
   "outputs": [],
   "source": [
    "inp = puzzle.input_data"
   ]
  },
  {
   "cell_type": "code",
   "execution_count": 17,
   "metadata": {},
   "outputs": [],
   "source": [
    "data = list(map(int, inp.split('\\n')))"
   ]
  },
  {
   "cell_type": "code",
   "execution_count": 11,
   "metadata": {},
   "outputs": [],
   "source": [
    "import itertools"
   ]
  },
  {
   "cell_type": "code",
   "execution_count": 23,
   "metadata": {},
   "outputs": [
    {
     "output_type": "stream",
     "name": "stdout",
     "text": [
      "75 1945 145875\n"
     ]
    }
   ],
   "source": [
    "for x, y in itertools.combinations(data, 2):\n",
    "    if x+y==2020:\n",
    "        print(x, y, x*y)\n",
    "    "
   ]
  },
  {
   "cell_type": "code",
   "execution_count": 24,
   "metadata": {},
   "outputs": [
    {
     "output_type": "stream",
     "name": "stdout",
     "text": [
      "74 1052 894 69596112\n"
     ]
    }
   ],
   "source": [
    "for x, y, z in itertools.combinations(data, 3):\n",
    "    if x+y+z==2020:\n",
    "        print(x, y, z, x*y* z)\n",
    "    "
   ]
  },
  {
   "source": [
    "### day 2"
   ],
   "cell_type": "markdown",
   "metadata": {}
  },
  {
   "cell_type": "code",
   "execution_count": 35,
   "metadata": {},
   "outputs": [],
   "source": [
    "import numpy as np\n",
    "import pandas as pd"
   ]
  },
  {
   "cell_type": "code",
   "execution_count": 4,
   "metadata": {},
   "outputs": [],
   "source": [
    "puzzle = Puzzle(year=2020, day=2)\n",
    "inp = puzzle.input_data"
   ]
  },
  {
   "cell_type": "code",
   "execution_count": 6,
   "metadata": {
    "tags": []
   },
   "outputs": [],
   "source": [
    "data = inp.split('\\n')"
   ]
  },
  {
   "cell_type": "code",
   "execution_count": 10,
   "metadata": {
    "tags": []
   },
   "outputs": [
    {
     "output_type": "stream",
     "name": "stdout",
     "text": [
      "['5-10 b: bhbjlkbbbbbbb', '3-4 j: hjvj', '8-9 p: pmljtsttp', '3-4 t: hvtttqhdjmmnbqwbgfs', '4-6 m: mblwtzmvmdjkkmmtsckm', '6-9 f: ffffftfff', '1-3 g: xggg', '3-10 k: rwkhttkxxdpnlkq', '3-11 w: wwmwwwwwwwww', '5-7 f: fffffffff']\n"
     ]
    }
   ],
   "source": [
    "print(data[:10])"
   ]
  },
  {
   "cell_type": "code",
   "execution_count": 17,
   "metadata": {},
   "outputs": [
    {
     "output_type": "execute_result",
     "data": {
      "text/plain": [
       "'bhbjlkbbbbbbb'"
      ]
     },
     "metadata": {},
     "execution_count": 17
    }
   ],
   "source": [
    "'5-10 b: bhbjlkbbbbbbb'.split(\"-\")[1].split(\" \")[2]"
   ]
  },
  {
   "cell_type": "code",
   "execution_count": 33,
   "metadata": {},
   "outputs": [],
   "source": [
    "def parse(x):\n",
    "    min_cnt = int(x.split(\"-\")[0])\n",
    "    max_cnt = int(x.split(\"-\")[1].split(\" \")[0])\n",
    "    letter = x.split(\"-\")[1].split(\" \")[1][0]\n",
    "    password = x.split(\"-\")[1].split(\" \")[2]\n",
    "    cnt = np.sum([char==letter for char in password])\n",
    "    return cnt >= min_cnt and cnt <= max_cnt\n"
   ]
  },
  {
   "cell_type": "code",
   "execution_count": 34,
   "metadata": {},
   "outputs": [
    {
     "output_type": "execute_result",
     "data": {
      "text/plain": [
       "439"
      ]
     },
     "metadata": {},
     "execution_count": 34
    }
   ],
   "source": [
    "np.sum([parse(x) for x in data])"
   ]
  },
  {
   "cell_type": "code",
   "execution_count": 31,
   "metadata": {},
   "outputs": [],
   "source": [
    "def parse(x):\n",
    "    min_cnt = int(x.split(\"-\")[0])\n",
    "    max_cnt = int(x.split(\"-\")[1].split(\" \")[0])\n",
    "    letter = x.split(\"-\")[1].split(\" \")[1][0]\n",
    "    password = x.split(\"-\")[1].split(\" \")[2]\n",
    "\n",
    "    return (password[min_cnt - 1] == letter) + (password[max_cnt - 1] == letter) == 1\n"
   ]
  },
  {
   "cell_type": "code",
   "execution_count": 32,
   "metadata": {},
   "outputs": [
    {
     "output_type": "execute_result",
     "data": {
      "text/plain": [
       "584"
      ]
     },
     "metadata": {},
     "execution_count": 32
    }
   ],
   "source": [
    "np.sum([parse(x) for x in data])\n"
   ]
  },
  {
   "cell_type": "code",
   "execution_count": 26,
   "metadata": {},
   "outputs": [
    {
     "output_type": "execute_result",
     "data": {
      "text/plain": [
       "[False, True, False, True, True, True, False, True, True, True]"
      ]
     },
     "metadata": {},
     "execution_count": 26
    }
   ],
   "source": [
    "[parse(x) for x in data[:10]]\n"
   ]
  },
  {
   "cell_type": "code",
   "execution_count": 27,
   "metadata": {},
   "outputs": [
    {
     "output_type": "execute_result",
     "data": {
      "text/plain": [
       "['5-10 b: bhbjlkbbbbbbb',\n",
       " '3-4 j: hjvj',\n",
       " '8-9 p: pmljtsttp',\n",
       " '3-4 t: hvtttqhdjmmnbqwbgfs',\n",
       " '4-6 m: mblwtzmvmdjkkmmtsckm',\n",
       " '6-9 f: ffffftfff',\n",
       " '1-3 g: xggg',\n",
       " '3-10 k: rwkhttkxxdpnlkq',\n",
       " '3-11 w: wwmwwwwwwwww',\n",
       " '5-7 f: fffffffff']"
      ]
     },
     "metadata": {},
     "execution_count": 27
    }
   ],
   "source": [
    "data[:10]"
   ]
  },
  {
   "source": [
    "a more elegant solution with regex groups"
   ],
   "cell_type": "markdown",
   "metadata": {}
  },
  {
   "cell_type": "code",
   "execution_count": 37,
   "metadata": {},
   "outputs": [],
   "source": [
    "import re"
   ]
  },
  {
   "source": [
    "def parse(x):\n",
    "    min_cnt, max_cnt, letter, password = re.search('(.*)-(.*) (.*): (.*)', x).groups()\n",
    "    cnt = np.sum([char==letter for char in password])\n",
    "    return cnt >= int(min_cnt) and cnt <= int(max_cnt)\n"
   ],
   "cell_type": "code",
   "metadata": {},
   "execution_count": 52,
   "outputs": []
  },
  {
   "cell_type": "code",
   "execution_count": 53,
   "metadata": {},
   "outputs": [
    {
     "output_type": "execute_result",
     "data": {
      "text/plain": [
       "439"
      ]
     },
     "metadata": {},
     "execution_count": 53
    }
   ],
   "source": [
    "np.sum([parse(x) for x in data])\n"
   ]
  },
  {
   "cell_type": "code",
   "execution_count": null,
   "metadata": {},
   "outputs": [],
   "source": []
  }
 ]
}