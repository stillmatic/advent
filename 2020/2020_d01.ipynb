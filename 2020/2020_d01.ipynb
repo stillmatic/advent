{
 "metadata": {
  "language_info": {
   "codemirror_mode": {
    "name": "ipython",
    "version": 3
   },
   "file_extension": ".py",
   "mimetype": "text/x-python",
   "name": "python",
   "nbconvert_exporter": "python",
   "pygments_lexer": "ipython3",
   "version": "3.8.6-final"
  },
  "orig_nbformat": 2,
  "kernelspec": {
   "name": "python3",
   "display_name": "Python 3.8.6 64-bit ('advent': venv)",
   "metadata": {
    "interpreter": {
     "hash": "0cc350383af1a3ab72b32736f19c7624e2a417239ea40fc71ef184bed3bdfde8"
    }
   }
  }
 },
 "nbformat": 4,
 "nbformat_minor": 2,
 "cells": [
  {
   "cell_type": "code",
   "execution_count": 3,
   "metadata": {},
   "outputs": [],
   "source": [
    "from aocd.models import Puzzle"
   ]
  },
  {
   "source": [
    "### day 1"
   ],
   "cell_type": "markdown",
   "metadata": {}
  },
  {
   "cell_type": "code",
   "execution_count": 9,
   "metadata": {},
   "outputs": [],
   "source": [
    "puzzle = Puzzle(year=2020, day=1)"
   ]
  },
  {
   "cell_type": "code",
   "execution_count": 13,
   "metadata": {},
   "outputs": [],
   "source": [
    "inp = puzzle.input_data"
   ]
  },
  {
   "cell_type": "code",
   "execution_count": null,
   "metadata": {},
   "outputs": [],
   "source": []
  },
  {
   "cell_type": "code",
   "execution_count": 17,
   "metadata": {},
   "outputs": [],
   "source": [
    "data = list(map(int, inp.split('\\n')))"
   ]
  },
  {
   "cell_type": "code",
   "execution_count": 11,
   "metadata": {},
   "outputs": [],
   "source": [
    "import itertools"
   ]
  },
  {
   "cell_type": "code",
   "execution_count": 23,
   "metadata": {},
   "outputs": [
    {
     "output_type": "stream",
     "name": "stdout",
     "text": [
      "75 1945 145875\n"
     ]
    }
   ],
   "source": [
    "for x, y in itertools.combinations(data, 2):\n",
    "    if x+y==2020:\n",
    "        print(x, y, x*y)\n",
    "    "
   ]
  },
  {
   "cell_type": "code",
   "execution_count": 24,
   "metadata": {},
   "outputs": [
    {
     "output_type": "stream",
     "name": "stdout",
     "text": [
      "74 1052 894 69596112\n"
     ]
    }
   ],
   "source": [
    "for x, y, z in itertools.combinations(data, 3):\n",
    "    if x+y+z==2020:\n",
    "        print(x, y, z, x*y* z)\n",
    "    "
   ]
  },
  {
   "source": [
    "### day 2"
   ],
   "cell_type": "markdown",
   "metadata": {}
  },
  {
   "cell_type": "code",
   "execution_count": 35,
   "metadata": {},
   "outputs": [],
   "source": [
    "import numpy as np\n",
    "import pandas as pd"
   ]
  },
  {
   "cell_type": "code",
   "execution_count": 4,
   "metadata": {},
   "outputs": [],
   "source": [
    "puzzle = Puzzle(year=2020, day=2)\n",
    "inp = puzzle.input_data"
   ]
  },
  {
   "cell_type": "code",
   "execution_count": 6,
   "metadata": {
    "tags": []
   },
   "outputs": [],
   "source": [
    "data = inp.split('\\n')"
   ]
  },
  {
   "cell_type": "code",
   "execution_count": 10,
   "metadata": {
    "tags": []
   },
   "outputs": [
    {
     "output_type": "stream",
     "name": "stdout",
     "text": [
      "['5-10 b: bhbjlkbbbbbbb', '3-4 j: hjvj', '8-9 p: pmljtsttp', '3-4 t: hvtttqhdjmmnbqwbgfs', '4-6 m: mblwtzmvmdjkkmmtsckm', '6-9 f: ffffftfff', '1-3 g: xggg', '3-10 k: rwkhttkxxdpnlkq', '3-11 w: wwmwwwwwwwww', '5-7 f: fffffffff']\n"
     ]
    }
   ],
   "source": [
    "print(data[:10])"
   ]
  },
  {
   "cell_type": "code",
   "execution_count": 17,
   "metadata": {},
   "outputs": [
    {
     "output_type": "execute_result",
     "data": {
      "text/plain": [
       "'bhbjlkbbbbbbb'"
      ]
     },
     "metadata": {},
     "execution_count": 17
    }
   ],
   "source": [
    "'5-10 b: bhbjlkbbbbbbb'.split(\"-\")[1].split(\" \")[2]"
   ]
  },
  {
   "cell_type": "code",
   "execution_count": 33,
   "metadata": {},
   "outputs": [],
   "source": [
    "def parse(x):\n",
    "    min_cnt = int(x.split(\"-\")[0])\n",
    "    max_cnt = int(x.split(\"-\")[1].split(\" \")[0])\n",
    "    letter = x.split(\"-\")[1].split(\" \")[1][0]\n",
    "    password = x.split(\"-\")[1].split(\" \")[2]\n",
    "    cnt = np.sum([char==letter for char in password])\n",
    "    return cnt >= min_cnt and cnt <= max_cnt\n"
   ]
  },
  {
   "cell_type": "code",
   "execution_count": 34,
   "metadata": {},
   "outputs": [
    {
     "output_type": "execute_result",
     "data": {
      "text/plain": [
       "439"
      ]
     },
     "metadata": {},
     "execution_count": 34
    }
   ],
   "source": [
    "np.sum([parse(x) for x in data])"
   ]
  },
  {
   "cell_type": "code",
   "execution_count": 31,
   "metadata": {},
   "outputs": [],
   "source": [
    "def parse(x):\n",
    "    min_cnt = int(x.split(\"-\")[0])\n",
    "    max_cnt = int(x.split(\"-\")[1].split(\" \")[0])\n",
    "    letter = x.split(\"-\")[1].split(\" \")[1][0]\n",
    "    password = x.split(\"-\")[1].split(\" \")[2]\n",
    "\n",
    "    return (password[min_cnt - 1] == letter) + (password[max_cnt - 1] == letter) == 1\n"
   ]
  },
  {
   "cell_type": "code",
   "execution_count": 32,
   "metadata": {},
   "outputs": [
    {
     "output_type": "execute_result",
     "data": {
      "text/plain": [
       "584"
      ]
     },
     "metadata": {},
     "execution_count": 32
    }
   ],
   "source": [
    "np.sum([parse(x) for x in data])\n"
   ]
  },
  {
   "cell_type": "code",
   "execution_count": 26,
   "metadata": {},
   "outputs": [
    {
     "output_type": "execute_result",
     "data": {
      "text/plain": [
       "[False, True, False, True, True, True, False, True, True, True]"
      ]
     },
     "metadata": {},
     "execution_count": 26
    }
   ],
   "source": [
    "[parse(x) for x in data[:10]]\n"
   ]
  },
  {
   "cell_type": "code",
   "execution_count": 27,
   "metadata": {},
   "outputs": [
    {
     "output_type": "execute_result",
     "data": {
      "text/plain": [
       "['5-10 b: bhbjlkbbbbbbb',\n",
       " '3-4 j: hjvj',\n",
       " '8-9 p: pmljtsttp',\n",
       " '3-4 t: hvtttqhdjmmnbqwbgfs',\n",
       " '4-6 m: mblwtzmvmdjkkmmtsckm',\n",
       " '6-9 f: ffffftfff',\n",
       " '1-3 g: xggg',\n",
       " '3-10 k: rwkhttkxxdpnlkq',\n",
       " '3-11 w: wwmwwwwwwwww',\n",
       " '5-7 f: fffffffff']"
      ]
     },
     "metadata": {},
     "execution_count": 27
    }
   ],
   "source": [
    "data[:10]"
   ]
  },
  {
   "source": [
    "a more elegant solution with regex groups"
   ],
   "cell_type": "markdown",
   "metadata": {}
  },
  {
   "cell_type": "code",
   "execution_count": 37,
   "metadata": {},
   "outputs": [],
   "source": [
    "import re"
   ]
  },
  {
   "source": [
    "def parse(x):\n",
    "    min_cnt, max_cnt, letter, password = re.search('(.*)-(.*) (.*): (.*)', x).groups()\n",
    "    cnt = np.sum([char==letter for char in password])\n",
    "    return cnt >= int(min_cnt) and cnt <= int(max_cnt)\n"
   ],
   "cell_type": "code",
   "metadata": {},
   "execution_count": 52,
   "outputs": []
  },
  {
   "cell_type": "code",
   "execution_count": 53,
   "metadata": {},
   "outputs": [
    {
     "output_type": "execute_result",
     "data": {
      "text/plain": [
       "439"
      ]
     },
     "metadata": {},
     "execution_count": 53
    }
   ],
   "source": [
    "np.sum([parse(x) for x in data])\n"
   ]
  },
  {
   "source": [
    "### day 3"
   ],
   "cell_type": "markdown",
   "metadata": {}
  },
  {
   "cell_type": "code",
   "execution_count": 57,
   "metadata": {},
   "outputs": [],
   "source": [
    "puzzle = Puzzle(year=2020, day=3)"
   ]
  },
  {
   "cell_type": "code",
   "execution_count": 58,
   "metadata": {},
   "outputs": [],
   "source": [
    "inp = puzzle.input_data"
   ]
  },
  {
   "cell_type": "code",
   "execution_count": 84,
   "metadata": {},
   "outputs": [],
   "source": [
    "data = inp.split('\\n')"
   ]
  },
  {
   "cell_type": "code",
   "execution_count": 102,
   "metadata": {},
   "outputs": [],
   "source": [
    "test_data = \"\"\"..##.........##.........##.........##.........##.........##.......\n",
    "#...#...#..#...#...#..#...#...#..#...#...#..#...#...#..#...#...#..\n",
    ".#....#..#..#....#..#..#....#..#..#....#..#..#....#..#..#....#..#.\n",
    "..#.#...#.#..#.#...#.#..#.#...#.#..#.#...#.#..#.#...#.#..#.#...#.#\n",
    ".#...##..#..#...##..#..#...##..#..#...##..#..#...##..#..#...##..#.\n",
    "..#.##.......#.##.......#.##.......#.##.......#.##.......#.##.....\n",
    ".#.#.#....#.#.#.#....#.#.#.#....#.#.#.#....#.#.#.#....#.#.#.#....#\n",
    ".#........#.#........#.#........#.#........#.#........#.#........#\n",
    "#.##...#...#.##...#...#.##...#...#.##...#...#.##...#...#.##...#...\n",
    "#...##....##...##....##...##....##...##....##...##....##...##....#\n",
    ".#..#...#.#.#..#...#.#.#..#...#.#.#..#...#.#.#..#...#.#.#..#...#.# \"\"\".split(\"\\n\")"
   ]
  },
  {
   "cell_type": "code",
   "execution_count": 123,
   "metadata": {},
   "outputs": [
    {
     "output_type": "execute_result",
     "data": {
      "text/plain": [
       "['..##.........##.........##.........##.........##.........##.......',\n",
       " '#...#...#..#...#...#..#...#...#..#...#...#..#...#...#..#...#...#..',\n",
       " '.#....#..#..#....#..#..#....#..#..#....#..#..#....#..#..#....#..#.',\n",
       " '..#.#...#.#..#.#...#.#..#.#...#.#..#.#...#.#..#.#...#.#..#.#...#.#',\n",
       " '.#...##..#..#...##..#..#...##..#..#...##..#..#...##..#..#...##..#.',\n",
       " '..#.##.......#.##.......#.##.......#.##.......#.##.......#.##.....',\n",
       " '.#.#.#....#.#.#.#....#.#.#.#....#.#.#.#....#.#.#.#....#.#.#.#....#',\n",
       " '.#........#.#........#.#........#.#........#.#........#.#........#',\n",
       " '#.##...#...#.##...#...#.##...#...#.##...#...#.##...#...#.##...#...',\n",
       " '#...##....##...##....##...##....##...##....##...##....##...##....#',\n",
       " '.#..#...#.#.#..#...#.#.#..#...#.#.#..#...#.#.#..#...#.#.#..#...#.# ']"
      ]
     },
     "metadata": {},
     "execution_count": 123
    }
   ],
   "source": [
    "test_data"
   ]
  },
  {
   "cell_type": "code",
   "execution_count": 121,
   "metadata": {},
   "outputs": [],
   "source": [
    "def score(r, d, inp_data=data):\n",
    "    v = 0\n",
    "    for i, row in enumerate(inp_data):\n",
    "        check = (( int ((i/d) * r ))) % len(inp_data[0])\n",
    "        v = v + (row[check] == \"#\") * (i % d == 0)\n",
    "    return v"
   ]
  },
  {
   "cell_type": "code",
   "execution_count": 122,
   "metadata": {
    "tags": []
   },
   "outputs": [
    {
     "output_type": "execute_result",
     "data": {
      "text/plain": [
       "5872458240"
      ]
     },
     "metadata": {},
     "execution_count": 122
    }
   ],
   "source": [
    "score(1, 1) * score(3, 1) * score(5, 1) * score(7, 1) * score(1, 2)"
   ]
  },
  {
   "source": [
    "## day 4"
   ],
   "cell_type": "markdown",
   "metadata": {}
  },
  {
   "cell_type": "code",
   "execution_count": 10,
   "metadata": {},
   "outputs": [],
   "source": [
    "import numpy as np\n",
    "import re\n",
    "import pandas as pd"
   ]
  },
  {
   "cell_type": "code",
   "execution_count": 5,
   "metadata": {},
   "outputs": [],
   "source": [
    "puzzle = Puzzle(year=2020, day=4)\n",
    "inp = puzzle.input_data\n",
    "data = inp.split('\\n\\n')\n"
   ]
  },
  {
   "cell_type": "code",
   "execution_count": 7,
   "metadata": {},
   "outputs": [
    {
     "output_type": "execute_result",
     "data": {
      "text/plain": [
       "['eyr:2029 pid:157374862\\nbyr:1991 ecl:amb hcl:#a97842 hgt:178cm',\n",
       " 'byr:1962 pid:547578491 eyr:2028 ecl:hzl hgt:65in iyr:2013 hcl:#623a2f',\n",
       " 'hgt:71in eyr:2037\\necl:#8e276e hcl:z iyr:2019\\nbyr:2022 pid:157cm',\n",
       " 'hcl:#733820 hgt:175 eyr:2028 iyr:2011\\npid:87786389\\necl:hzl byr:1980',\n",
       " 'hgt:163in hcl:z pid:8261494508 cid:136 ecl:grn eyr:1958\\nbyr:2030 iyr:1991',\n",
       " 'iyr:2021\\nhcl:6708a3\\necl:zzz eyr:2034 byr:2010\\nhgt:189cm\\npid:466438311',\n",
       " 'iyr:2012 pid:9720867166 byr:2006 eyr:2022 hgt:72cm ecl:utc hcl:#c0946f',\n",
       " 'ecl:#353bc9\\niyr:2020 pid:874363951 cid:113\\nhcl:z eyr:2040 hgt:76in byr:1975',\n",
       " 'eyr:1971\\nbyr:1955 pid:193cm hgt:189cm hcl:#ceb3a1 ecl:grn\\niyr:2023',\n",
       " 'byr:2014\\niyr:2026 eyr:1978 hcl:z cid:312 pid:8294818417\\nhgt:169in ecl:#82bb02']"
      ]
     },
     "metadata": {},
     "execution_count": 7
    }
   ],
   "source": [
    "data[:10]"
   ]
  },
  {
   "cell_type": "code",
   "execution_count": 12,
   "metadata": {},
   "outputs": [],
   "source": [
    "fields = [\n",
    "'byr',\n",
    "'iyr',\n",
    "'eyr',\n",
    "'hgt',\n",
    "'hcl',\n",
    "'ecl',\n",
    "'pid',\n",
    "# 'cid',\n",
    "]"
   ]
  },
  {
   "cell_type": "code",
   "execution_count": 13,
   "metadata": {},
   "outputs": [],
   "source": [
    "def valid(x):\n",
    "    return np.sum([field in x for field in fields]) == len(fields)"
   ]
  },
  {
   "cell_type": "code",
   "execution_count": 14,
   "metadata": {},
   "outputs": [
    {
     "output_type": "execute_result",
     "data": {
      "text/plain": [
       "245"
      ]
     },
     "metadata": {},
     "execution_count": 14
    }
   ],
   "source": [
    " np.sum([valid(x) for x in data])\n"
   ]
  },
  {
   "cell_type": "code",
   "execution_count": 16,
   "metadata": {},
   "outputs": [],
   "source": [
    "valids = [x.replace(\"\\n\", \" \") for x in data if valid(x)]"
   ]
  },
  {
   "cell_type": "code",
   "execution_count": 49,
   "metadata": {},
   "outputs": [],
   "source": [
    "ecls = 'amb blu brn gry grn hzl oth'.split(\" \")"
   ]
  },
  {
   "cell_type": "code",
   "execution_count": 17,
   "metadata": {},
   "outputs": [],
   "source": [
    "from collections import ChainMap \n",
    "\n",
    "def parser(x):\n",
    "    k,v = re.search('(.*):(.*)', x).groups()\n",
    "    return {k: v}\n",
    "\n",
    "def parser_full(x):\n",
    "    z = [parser(y) for y in x.split(\" \")]\n",
    "    return ChainMap(*z)\n",
    "\n",
    "parsed_list = [parser_full(x) for x in valids]"
   ]
  },
  {
   "cell_type": "code",
   "execution_count": 18,
   "metadata": {},
   "outputs": [],
   "source": [
    "df = pd.DataFrame(parsed_list)"
   ]
  },
  {
   "cell_type": "code",
   "execution_count": 19,
   "metadata": {},
   "outputs": [
    {
     "output_type": "execute_result",
     "data": {
      "text/plain": [
       "      byr  cid      ecl   eyr      hcl    hgt   iyr         pid\n",
       "0    1962  NaN      hzl  2028  #623a2f   65in  2013   547578491\n",
       "1    2022  NaN  #8e276e  2037        z   71in  2019       157cm\n",
       "2    1980  NaN      hzl  2028  #733820    175  2011    87786389\n",
       "3    2030  136      grn  1958        z  163in  1991  8261494508\n",
       "4    2010  NaN      zzz  2034   6708a3  189cm  2021   466438311\n",
       "..    ...  ...      ...   ...      ...    ...   ...         ...\n",
       "240  1965  NaN      grn  2020  #c0946f  181cm  2012   528782860\n",
       "241  2006  NaN      grt  1949   d3ca76  176in  2030     #ba10da\n",
       "242  2025  NaN  #898478  2030  #e9f7a5   66cm  2022       159cm\n",
       "243  1994  NaN      gmt  2022  #ceb3a1  151in  2016   028071950\n",
       "244  2001  NaN      brn  2026  #602927  167cm  2011   487702556\n",
       "\n",
       "[245 rows x 8 columns]"
      ],
      "text/html": "<div>\n<style scoped>\n    .dataframe tbody tr th:only-of-type {\n        vertical-align: middle;\n    }\n\n    .dataframe tbody tr th {\n        vertical-align: top;\n    }\n\n    .dataframe thead th {\n        text-align: right;\n    }\n</style>\n<table border=\"1\" class=\"dataframe\">\n  <thead>\n    <tr style=\"text-align: right;\">\n      <th></th>\n      <th>byr</th>\n      <th>cid</th>\n      <th>ecl</th>\n      <th>eyr</th>\n      <th>hcl</th>\n      <th>hgt</th>\n      <th>iyr</th>\n      <th>pid</th>\n    </tr>\n  </thead>\n  <tbody>\n    <tr>\n      <th>0</th>\n      <td>1962</td>\n      <td>NaN</td>\n      <td>hzl</td>\n      <td>2028</td>\n      <td>#623a2f</td>\n      <td>65in</td>\n      <td>2013</td>\n      <td>547578491</td>\n    </tr>\n    <tr>\n      <th>1</th>\n      <td>2022</td>\n      <td>NaN</td>\n      <td>#8e276e</td>\n      <td>2037</td>\n      <td>z</td>\n      <td>71in</td>\n      <td>2019</td>\n      <td>157cm</td>\n    </tr>\n    <tr>\n      <th>2</th>\n      <td>1980</td>\n      <td>NaN</td>\n      <td>hzl</td>\n      <td>2028</td>\n      <td>#733820</td>\n      <td>175</td>\n      <td>2011</td>\n      <td>87786389</td>\n    </tr>\n    <tr>\n      <th>3</th>\n      <td>2030</td>\n      <td>136</td>\n      <td>grn</td>\n      <td>1958</td>\n      <td>z</td>\n      <td>163in</td>\n      <td>1991</td>\n      <td>8261494508</td>\n    </tr>\n    <tr>\n      <th>4</th>\n      <td>2010</td>\n      <td>NaN</td>\n      <td>zzz</td>\n      <td>2034</td>\n      <td>6708a3</td>\n      <td>189cm</td>\n      <td>2021</td>\n      <td>466438311</td>\n    </tr>\n    <tr>\n      <th>...</th>\n      <td>...</td>\n      <td>...</td>\n      <td>...</td>\n      <td>...</td>\n      <td>...</td>\n      <td>...</td>\n      <td>...</td>\n      <td>...</td>\n    </tr>\n    <tr>\n      <th>240</th>\n      <td>1965</td>\n      <td>NaN</td>\n      <td>grn</td>\n      <td>2020</td>\n      <td>#c0946f</td>\n      <td>181cm</td>\n      <td>2012</td>\n      <td>528782860</td>\n    </tr>\n    <tr>\n      <th>241</th>\n      <td>2006</td>\n      <td>NaN</td>\n      <td>grt</td>\n      <td>1949</td>\n      <td>d3ca76</td>\n      <td>176in</td>\n      <td>2030</td>\n      <td>#ba10da</td>\n    </tr>\n    <tr>\n      <th>242</th>\n      <td>2025</td>\n      <td>NaN</td>\n      <td>#898478</td>\n      <td>2030</td>\n      <td>#e9f7a5</td>\n      <td>66cm</td>\n      <td>2022</td>\n      <td>159cm</td>\n    </tr>\n    <tr>\n      <th>243</th>\n      <td>1994</td>\n      <td>NaN</td>\n      <td>gmt</td>\n      <td>2022</td>\n      <td>#ceb3a1</td>\n      <td>151in</td>\n      <td>2016</td>\n      <td>028071950</td>\n    </tr>\n    <tr>\n      <th>244</th>\n      <td>2001</td>\n      <td>NaN</td>\n      <td>brn</td>\n      <td>2026</td>\n      <td>#602927</td>\n      <td>167cm</td>\n      <td>2011</td>\n      <td>487702556</td>\n    </tr>\n  </tbody>\n</table>\n<p>245 rows × 8 columns</p>\n</div>"
     },
     "metadata": {},
     "execution_count": 19
    }
   ],
   "source": [
    "df"
   ]
  },
  {
   "cell_type": "code",
   "execution_count": 20,
   "metadata": {},
   "outputs": [],
   "source": [
    "df['byr'] = df['byr'].apply(int)\n",
    "df['eyr'] = df['eyr'].apply(int)\n",
    "df['iyr'] = df['iyr'].apply(int)"
   ]
  },
  {
   "cell_type": "code",
   "execution_count": 32,
   "metadata": {},
   "outputs": [],
   "source": [
    "valid_byr = [1920 <= x <= 2002 for x in df['byr']]\n",
    "valid_eyr = [2020 <= x <= 2030 for x in df['eyr']]\n",
    "valid_iyr = [2010 <= x <= 2020 for x in df['iyr']]"
   ]
  },
  {
   "cell_type": "code",
   "execution_count": 34,
   "metadata": {},
   "outputs": [],
   "source": [
    "valid_years = [(x + y + z) == 3 for x, y, z in list(zip(valid_byr, valid_eyr, valid_iyr))]"
   ]
  },
  {
   "cell_type": "code",
   "execution_count": 83,
   "metadata": {},
   "outputs": [],
   "source": [
    "df2 = df[valid_years]"
   ]
  },
  {
   "cell_type": "code",
   "execution_count": 84,
   "metadata": {},
   "outputs": [],
   "source": [
    "def parse_height(v):\n",
    "    dig, unit = re.search('([0-9]*)([a-z]*)', v).groups()\n",
    "    if unit == \"cm\":\n",
    "        return (int(dig) >= 150) & (int(dig) <= 193  )     \n",
    "    if unit == \"in\":\n",
    "        return (int(dig) >= 59) & (int(dig) <= 76)   \n",
    "    return False"
   ]
  },
  {
   "cell_type": "code",
   "execution_count": 86,
   "metadata": {},
   "outputs": [],
   "source": [
    "df2['hgt_p'] = df2['hgt'].apply(parse_height)"
   ]
  },
  {
   "cell_type": "code",
   "execution_count": 87,
   "metadata": {},
   "outputs": [],
   "source": [
    "chars = \"abcdef0123456789\"\n",
    "def parse_hcl(v):\n",
    "    if v[0] != \"#\":\n",
    "        return False\n",
    "    if len(v) > 7:\n",
    "        return False\n",
    "    for char in v[1:]:\n",
    "        if char not in chars:\n",
    "            return False\n",
    "    return True"
   ]
  },
  {
   "cell_type": "code",
   "execution_count": 88,
   "metadata": {},
   "outputs": [],
   "source": [
    "df2['hcl_p'] = df2['hcl'].apply(parse_hcl)"
   ]
  },
  {
   "cell_type": "code",
   "execution_count": 89,
   "metadata": {},
   "outputs": [],
   "source": [
    "def parse_pid(v):\n",
    "        for ch in v:\n",
    "            if ch.isalpha():\n",
    "                return False\n",
    "        return len(str(v)) == 9 "
   ]
  },
  {
   "cell_type": "code",
   "execution_count": 90,
   "metadata": {},
   "outputs": [],
   "source": [
    "df2['pid_p'] = df2['pid'].apply(parse_pid)"
   ]
  },
  {
   "cell_type": "code",
   "execution_count": 91,
   "metadata": {},
   "outputs": [],
   "source": [
    "df2['valid_ecl'] = [x in ecls for x in df2['ecl']]"
   ]
  },
  {
   "cell_type": "code",
   "execution_count": 92,
   "metadata": {},
   "outputs": [
    {
     "output_type": "execute_result",
     "data": {
      "text/plain": [
       "      byr  cid  ecl   eyr      hcl    hgt   iyr        pid  hgt_p  hcl_p  \\\n",
       "0    1962  NaN  hzl  2028  #623a2f   65in  2013  547578491   True   True   \n",
       "9    1936  342  amb  2025  #7d3b0c  160cm  2010  429853734   True   True   \n",
       "13   1997  NaN  blu  2027  #888785  192cm  2014  381094641   True   True   \n",
       "17   1970  NaN  grn  2023  #18171d  191cm  2010  284327216   True   True   \n",
       "18   1929  194  oth  2026  #b6652a  156cm  2013  224596482   True   True   \n",
       "..    ...  ...  ...   ...      ...    ...   ...        ...    ...    ...   \n",
       "233  1997  NaN  oth  2026  #341e13  159cm  2010  092679330   True   True   \n",
       "236  1979  272  brn  2025  #fffffd  180cm  2012  456545466   True   True   \n",
       "239  1990  NaN  blu  2027  #b6652a  191cm  2017  074411798   True   True   \n",
       "240  1965  NaN  grn  2020  #c0946f  181cm  2012  528782860   True   True   \n",
       "244  2001  NaN  brn  2026  #602927  167cm  2011  487702556   True   True   \n",
       "\n",
       "     pid_p  valid_ecl  \n",
       "0     True       True  \n",
       "9     True       True  \n",
       "13    True       True  \n",
       "17    True       True  \n",
       "18    True       True  \n",
       "..     ...        ...  \n",
       "233   True       True  \n",
       "236   True       True  \n",
       "239   True       True  \n",
       "240   True       True  \n",
       "244   True       True  \n",
       "\n",
       "[133 rows x 12 columns]"
      ],
      "text/html": "<div>\n<style scoped>\n    .dataframe tbody tr th:only-of-type {\n        vertical-align: middle;\n    }\n\n    .dataframe tbody tr th {\n        vertical-align: top;\n    }\n\n    .dataframe thead th {\n        text-align: right;\n    }\n</style>\n<table border=\"1\" class=\"dataframe\">\n  <thead>\n    <tr style=\"text-align: right;\">\n      <th></th>\n      <th>byr</th>\n      <th>cid</th>\n      <th>ecl</th>\n      <th>eyr</th>\n      <th>hcl</th>\n      <th>hgt</th>\n      <th>iyr</th>\n      <th>pid</th>\n      <th>hgt_p</th>\n      <th>hcl_p</th>\n      <th>pid_p</th>\n      <th>valid_ecl</th>\n    </tr>\n  </thead>\n  <tbody>\n    <tr>\n      <th>0</th>\n      <td>1962</td>\n      <td>NaN</td>\n      <td>hzl</td>\n      <td>2028</td>\n      <td>#623a2f</td>\n      <td>65in</td>\n      <td>2013</td>\n      <td>547578491</td>\n      <td>True</td>\n      <td>True</td>\n      <td>True</td>\n      <td>True</td>\n    </tr>\n    <tr>\n      <th>9</th>\n      <td>1936</td>\n      <td>342</td>\n      <td>amb</td>\n      <td>2025</td>\n      <td>#7d3b0c</td>\n      <td>160cm</td>\n      <td>2010</td>\n      <td>429853734</td>\n      <td>True</td>\n      <td>True</td>\n      <td>True</td>\n      <td>True</td>\n    </tr>\n    <tr>\n      <th>13</th>\n      <td>1997</td>\n      <td>NaN</td>\n      <td>blu</td>\n      <td>2027</td>\n      <td>#888785</td>\n      <td>192cm</td>\n      <td>2014</td>\n      <td>381094641</td>\n      <td>True</td>\n      <td>True</td>\n      <td>True</td>\n      <td>True</td>\n    </tr>\n    <tr>\n      <th>17</th>\n      <td>1970</td>\n      <td>NaN</td>\n      <td>grn</td>\n      <td>2023</td>\n      <td>#18171d</td>\n      <td>191cm</td>\n      <td>2010</td>\n      <td>284327216</td>\n      <td>True</td>\n      <td>True</td>\n      <td>True</td>\n      <td>True</td>\n    </tr>\n    <tr>\n      <th>18</th>\n      <td>1929</td>\n      <td>194</td>\n      <td>oth</td>\n      <td>2026</td>\n      <td>#b6652a</td>\n      <td>156cm</td>\n      <td>2013</td>\n      <td>224596482</td>\n      <td>True</td>\n      <td>True</td>\n      <td>True</td>\n      <td>True</td>\n    </tr>\n    <tr>\n      <th>...</th>\n      <td>...</td>\n      <td>...</td>\n      <td>...</td>\n      <td>...</td>\n      <td>...</td>\n      <td>...</td>\n      <td>...</td>\n      <td>...</td>\n      <td>...</td>\n      <td>...</td>\n      <td>...</td>\n      <td>...</td>\n    </tr>\n    <tr>\n      <th>233</th>\n      <td>1997</td>\n      <td>NaN</td>\n      <td>oth</td>\n      <td>2026</td>\n      <td>#341e13</td>\n      <td>159cm</td>\n      <td>2010</td>\n      <td>092679330</td>\n      <td>True</td>\n      <td>True</td>\n      <td>True</td>\n      <td>True</td>\n    </tr>\n    <tr>\n      <th>236</th>\n      <td>1979</td>\n      <td>272</td>\n      <td>brn</td>\n      <td>2025</td>\n      <td>#fffffd</td>\n      <td>180cm</td>\n      <td>2012</td>\n      <td>456545466</td>\n      <td>True</td>\n      <td>True</td>\n      <td>True</td>\n      <td>True</td>\n    </tr>\n    <tr>\n      <th>239</th>\n      <td>1990</td>\n      <td>NaN</td>\n      <td>blu</td>\n      <td>2027</td>\n      <td>#b6652a</td>\n      <td>191cm</td>\n      <td>2017</td>\n      <td>074411798</td>\n      <td>True</td>\n      <td>True</td>\n      <td>True</td>\n      <td>True</td>\n    </tr>\n    <tr>\n      <th>240</th>\n      <td>1965</td>\n      <td>NaN</td>\n      <td>grn</td>\n      <td>2020</td>\n      <td>#c0946f</td>\n      <td>181cm</td>\n      <td>2012</td>\n      <td>528782860</td>\n      <td>True</td>\n      <td>True</td>\n      <td>True</td>\n      <td>True</td>\n    </tr>\n    <tr>\n      <th>244</th>\n      <td>2001</td>\n      <td>NaN</td>\n      <td>brn</td>\n      <td>2026</td>\n      <td>#602927</td>\n      <td>167cm</td>\n      <td>2011</td>\n      <td>487702556</td>\n      <td>True</td>\n      <td>True</td>\n      <td>True</td>\n      <td>True</td>\n    </tr>\n  </tbody>\n</table>\n<p>133 rows × 12 columns</p>\n</div>"
     },
     "metadata": {},
     "execution_count": 92
    }
   ],
   "source": [
    "df2.query('pid_p == True and hcl_p == True and hgt_p == True and valid_ecl == True')"
   ]
  },
  {
   "cell_type": "code",
   "execution_count": null,
   "metadata": {},
   "outputs": [],
   "source": []
  }
 ]
}