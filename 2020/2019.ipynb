{
 "metadata": {
  "language_info": {
   "codemirror_mode": {
    "name": "ipython",
    "version": 3
   },
   "file_extension": ".py",
   "mimetype": "text/x-python",
   "name": "python",
   "nbconvert_exporter": "python",
   "pygments_lexer": "ipython3",
   "version": "3.8.6-final"
  },
  "orig_nbformat": 2,
  "kernelspec": {
   "name": "python3",
   "display_name": "Python 3.8.6 64-bit ('advent')",
   "metadata": {
    "interpreter": {
     "hash": "0cc350383af1a3ab72b32736f19c7624e2a417239ea40fc71ef184bed3bdfde8"
    }
   }
  }
 },
 "nbformat": 4,
 "nbformat_minor": 2,
 "cells": [
  {
   "cell_type": "code",
   "execution_count": 12,
   "metadata": {},
   "outputs": [],
   "source": [
    "from aocd.models import Puzzle\n",
    "import numpy as np\n",
    "import pandas as pd "
   ]
  },
  {
   "cell_type": "code",
   "execution_count": 3,
   "metadata": {},
   "outputs": [],
   "source": [
    "puzzle = Puzzle(year=2019, day=1)"
   ]
  },
  {
   "cell_type": "code",
   "execution_count": 4,
   "metadata": {},
   "outputs": [
    {
     "output_type": "stream",
     "name": "stdout",
     "text": [
      "88093\n102524\n75875\n62024\n86072\n106670\n105440\n51371\n148951\n123704\n92364\n50848\n117125\n95022\n131085\n129886\n145084\n123077\n69219\n84366\n51344\n65604\n140383\n53606\n132685\n83550\n76648\n120937\n137498\n84167\n94438\n54178\n106306\n80802\n98524\n70214\n114108\n118782\n75444\n76449\n144233\n56747\n93663\n137969\n99981\n110442\n106873\n93708\n114085\n53655\n78096\n137640\n50775\n72563\n135043\n146136\n147244\n105601\n106293\n63048\n104864\n93044\n118222\n107110\n92725\n57424\n94602\n87898\n51668\n137651\n55070\n67255\n103823\n83059\n61150\n82029\n56060\n56702\n85486\n114522\n94121\n104870\n53014\n111776\n63615\n78378\n113830\n80059\n123427\n73545\n93688\n122410\n93174\n131464\n137014\n114304\n138703\n54128\n111698\n84299\n"
     ]
    }
   ],
   "source": [
    "print(puzzle.input_data)"
   ]
  },
  {
   "cell_type": "code",
   "execution_count": 5,
   "metadata": {},
   "outputs": [],
   "source": [
    "data = list(map(int, puzzle.input_data.split(\"\\n\")))"
   ]
  },
  {
   "cell_type": "code",
   "execution_count": 21,
   "metadata": {},
   "outputs": [],
   "source": [
    "def get_fuel(n):\n",
    "    val = int(n/3) - 2\n",
    "    if val < 0:\n",
    "        return 0\n",
    "    else:\n",
    "        return val\n",
    "\n",
    "def get_fuel_recursive(n):\n",
    "    val = get_fuel(n)\n",
    "    if val == 0:\n",
    "        return 0\n",
    "    else:\n",
    "        return val + get_fuel_recursive(val)\n",
    "\n"
   ]
  },
  {
   "cell_type": "code",
   "execution_count": 17,
   "metadata": {},
   "outputs": [
    {
     "output_type": "execute_result",
     "data": {
      "text/plain": [
       "3188480"
      ]
     },
     "metadata": {},
     "execution_count": 17
    }
   ],
   "source": [
    "np.sum([get_fuel(x) for x in data])"
   ]
  },
  {
   "cell_type": "code",
   "execution_count": 25,
   "metadata": {},
   "outputs": [
    {
     "output_type": "execute_result",
     "data": {
      "text/plain": [
       "4779847"
      ]
     },
     "metadata": {},
     "execution_count": 25
    }
   ],
   "source": [
    "np.sum([get_fuel_recursive(x) for x in data])"
   ]
  },
  {
   "cell_type": "code",
   "execution_count": 26,
   "metadata": {},
   "outputs": [],
   "source": [
    "puzzle = Puzzle(year=2019, day=2)"
   ]
  },
  {
   "cell_type": "code",
   "execution_count": null,
   "metadata": {},
   "outputs": [],
   "source": []
  }
 ]
}